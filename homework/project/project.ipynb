{
 "cells": [
  {
   "cell_type": "code",
   "execution_count": 1,
   "metadata": {},
   "outputs": [],
   "source": [
    "from plot_utils import *\n",
    "import pandas as pd\n",
    "import numpy as np\n",
    "import datetime\n",
    "import os\n",
    "\n",
    "import sys\n",
    "sys.path.insert(0, \"pompjax/pompjax\")\n",
    "\n",
    "from diagnostic_plots import convergence_plot\n",
    "from utils import create_df_response\n",
    "from ifeakf import ifeakf\n",
    "\n",
    "from model import simulate_em_sde01, euler_maruyama_sde_01\n"
   ]
  },
  {
   "cell_type": "code",
   "execution_count": null,
   "metadata": {},
   "outputs": [],
   "source": [
    "def simulate_inference_trajectory(h=1e-3, tmax = 10):\n",
    "    num_sims = 100\n",
    "    δt       = h\n",
    "\n",
    "    α = 10\n",
    "    ρ = 28\n",
    "    β = 8/3\n",
    "\n",
    "    param = {\"α\": α, \"ρ\": ρ, \"β\": β}\n",
    "\n",
    "    tsim, xsim = simulate_em_sde01(tmax, δt,  m=num_sims, params=param)\n",
    "    id_infer   = np.random.choice(num_sims)\n",
    "\n",
    "    infer_df         = pd.DataFrame(xsim[:, id_infer, :].T, columns=['y1', 'y2', 'y3'])\n",
    "    infer_df[\"oev1\"] = np.maximum(np.max(infer_df[\"y1\"].values), 1 +( 0.2 * infer_df[\"y1\"].values)**2)\n",
    "    infer_df[\"oev2\"] = np.maximum(np.max(infer_df[\"y2\"].values), 1 +( 0.2 * infer_df[\"y2\"].values)**2)\n",
    "    infer_df[\"oev3\"] = np.maximum(np.max(infer_df[\"y3\"].values), 1 +( 0.2 * infer_df[\"y3\"].values)**2)\n",
    "    infer_df[\"date\"] = pd.date_range(start=datetime.datetime(1997, 3, 12), periods=len(tsim), freq='D')\n",
    "    infer_df         = infer_df.iloc[7:]\n",
    "\n",
    "    return infer_df, tsim, xsim, id_infer"
   ]
  },
  {
   "cell_type": "code",
   "execution_count": null,
   "metadata": {},
   "outputs": [],
   "source": [
    "model_settings = {\n",
    "    \"m\"           : 300,                        # number of ensembles\n",
    "    \"p\"           : 3,                          # number of parameters\n",
    "    \"k\"           : 3,                          # number of observations\n",
    "    \"n\"           : 3,                          # number of state variables / dimension of the state space\n",
    "    \"dt\"          : 1,                          # time step\n",
    "    \"param_name\"  : [\"α\", \"ρ\", \"β\"],            # name of the parameters\n",
    "    \"param_truth\" : [10, 28, 8/3]               # true parameter values (not required - just for the example)\n",
    "    }\n",
    "\n",
    "if_settings = {\n",
    "   \"Nif\"                : 30,                     # number of iterations of the IF\n",
    "   \"type_cooling\"       : \"geometric\",            # type of cooling schedule\n",
    "   \"shrinkage_factor\"   : 0.9,                    # shrinkage factor for the cooling schedule\n",
    "   \"inflation\"          : 1.01,                   # inflation factor for spreading the variance after the EAKF step\n",
    "}\n",
    "\n",
    "αmin = 1\n",
    "αmax = 50\n",
    "\n",
    "ρmin = 20\n",
    "ρmax = 50\n",
    "\n",
    "βmin = 2\n",
    "βmax = 4\n",
    "\n",
    "state_space_range = np.array([-30, 30])\n",
    "parameters_range  = np.array([[αmin, αmax],\n",
    "                              [ρmin, ρmax],\n",
    "                              [βmin, βmax]])\n",
    "\n",
    "σ_perturb = np.array([(αmax - αmin)/10,\n",
    "                      (ρmax - ρmin)/10,\n",
    "                      (βmax - βmin)/10])"
   ]
  },
  {
   "cell_type": "code",
   "execution_count": null,
   "metadata": {},
   "outputs": [],
   "source": [
    "δt = 1e-3\n",
    "\n",
    "def f(t, x, α, ρ, β):\n",
    "    params = {\"α\": α, \"ρ\": ρ, \"β\": β}\n",
    "    return euler_maruyama_sde_01(x, t, δt, params)\n",
    "\n",
    "def g(t, x, θ):\n",
    "    return x\n",
    "\n",
    "def f0(m):\n",
    "    x0 = np.array([[-5.91652, -5.52332, 24.57231]]).T * np.ones((1, m))\n",
    "    return x0\n",
    "\n",
    "# Function to be used for the ikeafk function.\n",
    "f_if  = lambda t, x, θ: f(t, x, θ[0, :], θ[1, :], θ[2, :])\n",
    "g_if  = lambda t, x, θ: g(t, x, θ)\n",
    "f0_if = lambda θ: f0(model_settings[\"m\"])\n"
   ]
  },
  {
   "cell_type": "code",
   "execution_count": null,
   "metadata": {},
   "outputs": [],
   "source": [
    "path_to_results = os.path.join(\"results\", \"eakf\")\n"
   ]
  },
  {
   "cell_type": "code",
   "execution_count": null,
   "metadata": {},
   "outputs": [],
   "source": [
    "for i in range(100):\n",
    "\n",
    "    infer_df, tsim, xsim, id_infer = simulate_inference_trajectory(h=δt, tmax=10)\n",
    "    model_settings[\"dates\"]           = infer_df[\"date\"].values\n",
    "    if_settings[\"assimilation_dates\"] = infer_df[\"date\"].values\n",
    "\n",
    "    θmle, θpost = ifeakf(process_model            = f_if,\n",
    "                        observational_model       = g_if,\n",
    "                        state_space_initial_guess = f0_if,\n",
    "                        observations_df           = infer_df.set_index(\"date\"), # resample so assimilitation dates are weekly\n",
    "                        parameters_range          = parameters_range,\n",
    "                        state_space_range         = state_space_range,\n",
    "                        model_settings            = model_settings,\n",
    "                        if_settings               = if_settings,\n",
    "                        perturbation              = σ_perturb)\n",
    "\n",
    "    θpost = θpost.mean(-2)\n",
    "    np.savez_compressed(os.path.join(path_to_results, f\"{i}\".zfill(3)+\"_infer.npz\"),\n",
    "                    θmle  = θmle,\n",
    "                    θpost = θpost,\n",
    "                    δt    = δt,\n",
    "                    tsim  = tsim,\n",
    "                    xsim  = xsim,\n",
    "                    id_infer = id_infer)\n",
    "\n"
   ]
  },
  {
   "cell_type": "code",
   "execution_count": null,
   "metadata": {},
   "outputs": [],
   "source": [
    "\n",
    "p_truth = model_settings[\"param_truth\"]\n",
    "\n",
    "α_df    = create_df_response(θpost[0, :, :].T, if_settings[\"Nif\"])\n",
    "ρ_df    = create_df_response(θpost[1, :, :].T, if_settings[\"Nif\"])\n",
    "β_df    = create_df_response(θpost[2, :, :].T, if_settings[\"Nif\"])\n",
    "\n",
    "p_df   = [α_df, ρ_df, β_df]\n",
    "p_name = [r\"$\\alpha$\", r\"$\\rho$\", r\"$\\beta$\"]\n",
    "\n",
    "convergence_plot(θmle, p_df,\n",
    "                p_range     = parameters_range,\n",
    "                param_truth = model_settings[\"param_truth\"],\n",
    "                param_label = model_settings[\"param_name\"])\n"
   ]
  }
 ],
 "metadata": {
  "kernelspec": {
   "display_name": "base",
   "language": "python",
   "name": "python3"
  },
  "language_info": {
   "codemirror_mode": {
    "name": "ipython",
    "version": 3
   },
   "file_extension": ".py",
   "mimetype": "text/x-python",
   "name": "python",
   "nbconvert_exporter": "python",
   "pygments_lexer": "ipython3",
   "version": "3.11.5"
  }
 },
 "nbformat": 4,
 "nbformat_minor": 2
}
