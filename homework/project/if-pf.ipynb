{
 "cells": [
  {
   "cell_type": "code",
   "execution_count": 1,
   "metadata": {},
   "outputs": [],
   "source": [
    "from plot_utils import *\n",
    "import pandas as pd\n",
    "import numpy as np\n",
    "import datetime\n",
    "import os\n",
    "\n",
    "import sys\n",
    "sys.path.insert(0, \"pompjax/pompjax\")\n",
    "\n",
    "from diagnostic_plots import convergence_plot\n",
    "from utils import create_df_response\n",
    "from ifeakf import ifeakf, cooling, sample_uniform2, sample_truncated_normal, random_walk_perturbation, checkbound_params, eakf_update, inflate_ensembles, check_state_space\n",
    "\n",
    "from model import simulate_em_sde01, euler_maruyama_sde_01\n"
   ]
  },
  {
   "cell_type": "code",
   "execution_count": 2,
   "metadata": {},
   "outputs": [],
   "source": [
    "from plot_utils import *\n",
    "import pandas as pd\n",
    "import numpy as np\n",
    "import datetime\n",
    "import os\n",
    "\n",
    "import sys\n",
    "sys.path.insert(0, \"pompjax/pompjax\")\n",
    "\n",
    "from diagnostic_plots import convergence_plot\n",
    "from utils import create_df_response\n",
    "from ifeakf import ifeakf\n",
    "\n",
    "from model import simulate_em_sde01, euler_maruyama_sde_01\n"
   ]
  },
  {
   "cell_type": "code",
   "execution_count": 3,
   "metadata": {},
   "outputs": [],
   "source": [
    "def simulate_inference_trajectory(h=1e-3, tmax = 10):\n",
    "    num_sims = 100\n",
    "    δt       = h\n",
    "\n",
    "    α = 10\n",
    "    ρ = 28\n",
    "    β = 8/3\n",
    "\n",
    "    param = {\"α\": α, \"ρ\": ρ, \"β\": β}\n",
    "\n",
    "    tsim, xsim = simulate_em_sde01(tmax, δt,  m=num_sims, params=param)\n",
    "    id_infer   = np.random.choice(num_sims)\n",
    "\n",
    "    infer_df         = pd.DataFrame(xsim[:, id_infer, :].T, columns=['y1', 'y2', 'y3'])\n",
    "    infer_df[\"oev1\"] = np.maximum(np.max(infer_df[\"y1\"].values), 1 +( 0.2 * infer_df[\"y1\"].values)**2)\n",
    "    infer_df[\"oev2\"] = np.maximum(np.max(infer_df[\"y2\"].values), 1 +( 0.2 * infer_df[\"y2\"].values)**2)\n",
    "    infer_df[\"oev3\"] = np.maximum(np.max(infer_df[\"y3\"].values), 1 +( 0.2 * infer_df[\"y3\"].values)**2)\n",
    "    infer_df[\"date\"] = pd.date_range(start=datetime.datetime(1997, 3, 12), periods=len(tsim), freq='D')\n",
    "    infer_df         = infer_df.iloc[7:]\n",
    "\n",
    "    return infer_df, tsim, xsim, id_infer"
   ]
  },
  {
   "cell_type": "code",
   "execution_count": 4,
   "metadata": {},
   "outputs": [],
   "source": [
    "def normal_loglikelihood(real_world_observations, model_observations, error_variance=None, A=0.1, num_times=100):\n",
    "    if not error_variance:\n",
    "        error_variance = 1 + (0.2*real_world_observations)**2\n",
    "\n",
    "    nll =  A * np.exp(-0.5 * (real_world_observations - model_observations)**2 / error_variance) # Normal LL\n",
    "    return - np.sum(nll, 0)\n"
   ]
  },
  {
   "cell_type": "code",
   "execution_count": 5,
   "metadata": {},
   "outputs": [],
   "source": [
    "model_settings = {\n",
    "    \"m\"           : 2000,                       # number of particles\n",
    "    \"p\"           : 3,                          # number of parameters\n",
    "    \"k\"           : 3,                          # number of observations\n",
    "    \"n\"           : 3,                          # number of state variables / dimension of the state space\n",
    "    \"dt\"          : 1,                          # time step\n",
    "    \"param_name\"  : [\"α\", \"ρ\", \"β\"],            # name of the parameters\n",
    "    \"param_truth\" : [10, 28, 8/3]               # true parameter values (not required - just for the example)\n",
    "    }\n",
    "\n",
    "if_settings = {\n",
    "   \"Nif\"                : 30,                     # number of iterations of the IF\n",
    "   \"type_cooling\"       : \"geometric\",            # type of cooling schedule\n",
    "   \"shrinkage_factor\"   : 0.9,                    # shrinkage factor for the cooling schedule\n",
    "   \"inflation\"          : 0,                   # inflation factor for spreading the variance after the EAKF step\n",
    "}\n",
    "\n",
    "αmin = 1\n",
    "αmax = 50\n",
    "\n",
    "ρmin = 20\n",
    "ρmax = 50\n",
    "\n",
    "βmin = 2\n",
    "βmax = 4\n",
    "\n",
    "state_space_range = np.array([-30, 30])\n",
    "parameters_range  = np.array([[αmin, αmax],\n",
    "                              [ρmin, ρmax],\n",
    "                              [βmin, βmax]])\n",
    "\n",
    "σ_perturb = np.array([(αmax - αmin)/10,\n",
    "                      (ρmax - ρmin)/10,\n",
    "                      (βmax - βmin)/10])"
   ]
  },
  {
   "cell_type": "code",
   "execution_count": 6,
   "metadata": {},
   "outputs": [],
   "source": [
    "δt = 1e-3\n",
    "\n",
    "infer_df, tsim, xsim, id_infer = simulate_inference_trajectory(h=δt, tmax=10)\n",
    "\n",
    "\n",
    "def f(t, x, α, ρ, β):\n",
    "    params = {\"α\": α, \"ρ\": ρ, \"β\": β}\n",
    "    return euler_maruyama_sde_01(x, t, δt, params)\n",
    "\n",
    "def g(t, x, θ):\n",
    "    return x\n",
    "\n",
    "def f0(m):\n",
    "    x0 = np.array([[-5.91652, -5.52332, 24.57231]]).T * np.ones((1, m))\n",
    "    return x0\n",
    "\n",
    "# Function to be used for the ikeafk function.\n",
    "f_if  = lambda t, x, θ: f(t, x, θ[0, :], θ[1, :], θ[2, :])\n",
    "g_if  = lambda t, x, θ: g(t, x, θ)\n",
    "f0_if = lambda θ: f0(model_settings[\"m\"])\n"
   ]
  },
  {
   "cell_type": "code",
   "execution_count": 8,
   "metadata": {},
   "outputs": [
    {
     "name": "stderr",
     "output_type": "stream",
     "text": [
      "                                      \r"
     ]
    },
    {
     "ename": "NameError",
     "evalue": "name 'pd' is not defined",
     "output_type": "error",
     "traceback": [
      "\u001b[0;31m---------------------------------------------------------------------------\u001b[0m",
      "\u001b[0;31mNameError\u001b[0m                                 Traceback (most recent call last)",
      "Cell \u001b[0;32mIn[8], line 7\u001b[0m\n\u001b[1;32m      4\u001b[0m model_settings[\u001b[38;5;124m\"\u001b[39m\u001b[38;5;124mdates\u001b[39m\u001b[38;5;124m\"\u001b[39m]           \u001b[38;5;241m=\u001b[39m infer_df[\u001b[38;5;124m\"\u001b[39m\u001b[38;5;124mdate\u001b[39m\u001b[38;5;124m\"\u001b[39m]\u001b[38;5;241m.\u001b[39mvalues\n\u001b[1;32m      5\u001b[0m if_settings[\u001b[38;5;124m\"\u001b[39m\u001b[38;5;124massimilation_dates\u001b[39m\u001b[38;5;124m\"\u001b[39m] \u001b[38;5;241m=\u001b[39m infer_df[\u001b[38;5;124m\"\u001b[39m\u001b[38;5;124mdate\u001b[39m\u001b[38;5;124m\"\u001b[39m]\u001b[38;5;241m.\u001b[39mvalues\n\u001b[0;32m----> 7\u001b[0m θmle, θpost \u001b[38;5;241m=\u001b[39m \u001b[43mif_pf\u001b[49m\u001b[43m(\u001b[49m\u001b[43mprocess_model\u001b[49m\u001b[43m             \u001b[49m\u001b[38;5;241;43m=\u001b[39;49m\u001b[43m \u001b[49m\u001b[43mf_if\u001b[49m\u001b[43m,\u001b[49m\n\u001b[1;32m      8\u001b[0m \u001b[43m                    \u001b[49m\u001b[43mobservational_model\u001b[49m\u001b[43m       \u001b[49m\u001b[38;5;241;43m=\u001b[39;49m\u001b[43m \u001b[49m\u001b[43mg_if\u001b[49m\u001b[43m,\u001b[49m\n\u001b[1;32m      9\u001b[0m \u001b[43m                    \u001b[49m\u001b[43mstate_space_initial_guess\u001b[49m\u001b[43m \u001b[49m\u001b[38;5;241;43m=\u001b[39;49m\u001b[43m \u001b[49m\u001b[43mf0_if\u001b[49m\u001b[43m,\u001b[49m\n\u001b[1;32m     10\u001b[0m \u001b[43m                    \u001b[49m\u001b[43mmeasure_density\u001b[49m\u001b[43m           \u001b[49m\u001b[38;5;241;43m=\u001b[39;49m\u001b[43m \u001b[49m\u001b[43mnormal_loglikelihood\u001b[49m\u001b[43m,\u001b[49m\n\u001b[1;32m     11\u001b[0m \u001b[43m                    \u001b[49m\u001b[43mobservations_df\u001b[49m\u001b[43m           \u001b[49m\u001b[38;5;241;43m=\u001b[39;49m\u001b[43m \u001b[49m\u001b[43minfer_df\u001b[49m\u001b[38;5;241;43m.\u001b[39;49m\u001b[43mset_index\u001b[49m\u001b[43m(\u001b[49m\u001b[38;5;124;43m\"\u001b[39;49m\u001b[38;5;124;43mdate\u001b[39;49m\u001b[38;5;124;43m\"\u001b[39;49m\u001b[43m)\u001b[49m\u001b[43m,\u001b[49m\u001b[43m \u001b[49m\u001b[38;5;66;43;03m# resample so assimilitation dates are weekly\u001b[39;49;00m\n\u001b[1;32m     12\u001b[0m \u001b[43m                    \u001b[49m\u001b[43mparameters_range\u001b[49m\u001b[43m          \u001b[49m\u001b[38;5;241;43m=\u001b[39;49m\u001b[43m \u001b[49m\u001b[43mparameters_range\u001b[49m\u001b[43m,\u001b[49m\n\u001b[1;32m     13\u001b[0m \u001b[43m                    \u001b[49m\u001b[43mstate_space_range\u001b[49m\u001b[43m         \u001b[49m\u001b[38;5;241;43m=\u001b[39;49m\u001b[43m \u001b[49m\u001b[43mstate_space_range\u001b[49m\u001b[43m,\u001b[49m\n\u001b[1;32m     14\u001b[0m \u001b[43m                    \u001b[49m\u001b[43mmodel_settings\u001b[49m\u001b[43m            \u001b[49m\u001b[38;5;241;43m=\u001b[39;49m\u001b[43m \u001b[49m\u001b[43mmodel_settings\u001b[49m\u001b[43m,\u001b[49m\n\u001b[1;32m     15\u001b[0m \u001b[43m                    \u001b[49m\u001b[43mif_settings\u001b[49m\u001b[43m               \u001b[49m\u001b[38;5;241;43m=\u001b[39;49m\u001b[43m \u001b[49m\u001b[43mif_settings\u001b[49m\u001b[43m,\u001b[49m\n\u001b[1;32m     16\u001b[0m \u001b[43m                    \u001b[49m\u001b[43mperturbation\u001b[49m\u001b[43m              \u001b[49m\u001b[38;5;241;43m=\u001b[39;49m\u001b[43m \u001b[49m\u001b[43mσ_perturb\u001b[49m\u001b[43m)\u001b[49m\n",
      "File \u001b[0;32m~/Dropbox/My Mac (Jaimes-MacBook-Pro.local)/Documents/NYU/courses/Applied Stochastic Analysis/AppliedStochasticAnalysis/homework/project/inference_local.py:146\u001b[0m, in \u001b[0;36mif_pf\u001b[0;34m(process_model, observational_model, state_space_initial_guess, measure_density, observations_df, parameters_range, state_space_range, model_settings, if_settings, cooling_sequence, perturbation, leave_progress)\u001b[0m\n\u001b[1;32m    143\u001b[0m y        \u001b[38;5;241m=\u001b[39m observational_model(t, x, p_prior)\n\u001b[1;32m    144\u001b[0m cum_obs \u001b[38;5;241m+\u001b[39m\u001b[38;5;241m=\u001b[39m y\n\u001b[0;32m--> 146\u001b[0m \u001b[38;5;28;01mif\u001b[39;00m \u001b[43mpd\u001b[49m\u001b[38;5;241m.\u001b[39mto_datetime(date) \u001b[38;5;241m==\u001b[39m pd\u001b[38;5;241m.\u001b[39mto_datetime(assim_dates[t_assim]):\n\u001b[1;32m    147\u001b[0m     pert_noise  \u001b[38;5;241m=\u001b[39m perturbation\u001b[38;5;241m*\u001b[39mcooling_sequence[n]\n\u001b[1;32m    148\u001b[0m     p_prior     \u001b[38;5;241m=\u001b[39m random_walk_perturbation(p_prior, pert_noise)\n",
      "\u001b[0;31mNameError\u001b[0m: name 'pd' is not defined"
     ]
    }
   ],
   "source": [
    "from inference_local import if_pf\n",
    "\n",
    "infer_df, tsim, xsim, id_infer    = simulate_inference_trajectory(h=δt, tmax=10)\n",
    "model_settings[\"dates\"]           = infer_df[\"date\"].values\n",
    "if_settings[\"assimilation_dates\"] = infer_df[\"date\"].values\n",
    "\n",
    "θmle, θpost = if_pf(process_model             = f_if,\n",
    "                    observational_model       = g_if,\n",
    "                    state_space_initial_guess = f0_if,\n",
    "                    measure_density           = normal_loglikelihood,\n",
    "                    observations_df           = infer_df.set_index(\"date\"), # resample so assimilitation dates are weekly\n",
    "                    parameters_range          = parameters_range,\n",
    "                    state_space_range         = state_space_range,\n",
    "                    model_settings            = model_settings,\n",
    "                    if_settings               = if_settings,\n",
    "                    perturbation              = σ_perturb)\n"
   ]
  },
  {
   "cell_type": "code",
   "execution_count": null,
   "metadata": {},
   "outputs": [],
   "source": [
    "\n",
    "p_truth = model_settings[\"param_truth\"]\n",
    "\n",
    "α_df    = create_df_response(θpost[0, :, :, :].mean(-2).T, if_settings[\"Nif\"])\n",
    "ρ_df    = create_df_response(θpost[1, :, :, :].mean(-2).T, if_settings[\"Nif\"])\n",
    "β_df    = create_df_response(θpost[2, :, :, :].mean(-2).T, if_settings[\"Nif\"])\n",
    "\n",
    "p_df   = [α_df, ρ_df, β_df]\n",
    "p_name = [r\"$\\alpha$\", r\"$\\rho$\", r\"$\\beta$\"]\n",
    "\n",
    "convergence_plot(θmle, p_df,\n",
    "                p_range     = parameters_range,\n",
    "                param_truth = model_settings[\"param_truth\"],\n",
    "                param_label = model_settings[\"param_name\"])\n"
   ]
  },
  {
   "cell_type": "code",
   "execution_count": null,
   "metadata": {},
   "outputs": [],
   "source": []
  }
 ],
 "metadata": {
  "kernelspec": {
   "display_name": "base",
   "language": "python",
   "name": "python3"
  },
  "language_info": {
   "codemirror_mode": {
    "name": "ipython",
    "version": 3
   },
   "file_extension": ".py",
   "mimetype": "text/x-python",
   "name": "python",
   "nbconvert_exporter": "python",
   "pygments_lexer": "ipython3",
   "version": "3.11.5"
  }
 },
 "nbformat": 4,
 "nbformat_minor": 2
}
