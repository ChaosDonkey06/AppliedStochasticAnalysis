{
 "cells": [
  {
   "cell_type": "code",
   "execution_count": 5,
   "metadata": {},
   "outputs": [],
   "source": [
    "from sympy import symbols, Function, Eq, solve, diff, integrate, Matrix, lambdify\n",
    "import sympy as sp\n",
    "import numpy as np\n",
    "\n",
    "x, y, z = symbols('x y z')\n",
    "\n",
    "v  = [x, y, z]\n",
    "\n",
    "D1  = [x**4+x**2*(y**2+z**2-2)+1, x*y*(x**2+y**2+z**2-2),   x*z*(x**2+y**2+z**2-2)]\n",
    "D2  = [x*y*(x**2+y**2+z**2-2),   y**4+y**2*(x**2+z**2-2)+1, y*z*(x**2+y**2+z**2-2)]\n",
    "D3  = [x*z*(x**2+y**2+z**2-2),   y*z*(x**2+y**2+z**2-2),   z**2*(x**2+y**2-2)+z**4+1]\n",
    "\n",
    "D = Matrix([D1, D2, D3])\n",
    "\n",
    "terms = []\n",
    "for i in range(3):\n",
    "    for j in range(3):\n",
    "        Dij = diff(diff(D[i,j], v[j]), v[i])\n",
    "        terms.append( sp.simplify(Dij) )\n"
   ]
  },
  {
   "cell_type": "code",
   "execution_count": 8,
   "metadata": {},
   "outputs": [
    {
     "data": {
      "text/latex": [
       "$\\displaystyle 30 x^{2} + 30 y^{2} + 30 z^{2} - 24$"
      ],
      "text/plain": [
       "30*x**2 + 30*y**2 + 30*z**2 - 24"
      ]
     },
     "execution_count": 8,
     "metadata": {},
     "output_type": "execute_result"
    }
   ],
   "source": [
    "np.sum(terms)"
   ]
  },
  {
   "cell_type": "code",
   "execution_count": 9,
   "metadata": {},
   "outputs": [
    {
     "ename": "SyntaxError",
     "evalue": "invalid decimal literal (3210145085.py, line 1)",
     "output_type": "error",
     "traceback": [
      "\u001b[0;36m  Cell \u001b[0;32mIn[9], line 1\u001b[0;36m\u001b[0m\n\u001b[0;31m    [12x^2 + 2y^2 + 2z^2 - 4,\u001b[0m\n\u001b[0m      ^\u001b[0m\n\u001b[0;31mSyntaxError\u001b[0m\u001b[0;31m:\u001b[0m invalid decimal literal\n"
     ]
    }
   ],
   "source": [
    "[12x^2 + 2y^2 + 2z^2 - 4,\n",
    " 3x^2 + 3y^2 + z^2 - 2,\n",
    " 3x^2 + y^2 + 3z^2 - 2,\n",
    " 3x^2 + 3y^2 + z^2 - 2,\n",
    " 2x^2 + 12y^2 + 2z^2 - 4,\n",
    " x^2 + 3y^2 + 3z^2 - 2,\n",
    " 3x^2 + y^2 + 3z^2 - 2,\n",
    " x^2 + 3y^2 + 3z^2 - 2,\n",
    " 2x^2 + 2y^2 + 12z^2 - 4]"
   ]
  },
  {
   "cell_type": "code",
   "execution_count": 21,
   "metadata": {},
   "outputs": [
    {
     "data": {
      "text/latex": [
       "$\\displaystyle dx^{2} y^{2} + dx^{2} z^{2} - 2 dx dy x y - 2 dx dz x z + dy^{2} x^{2} + dy^{2} z^{2} - 2 dy dz y z + dz^{2} x^{2} + dz^{2} y^{2}$"
      ],
      "text/plain": [
       "dx**2*y**2 + dx**2*z**2 - 2*dx*dy*x*y - 2*dx*dz*x*z + dy**2*x**2 + dy**2*z**2 - 2*dy*dz*y*z + dz**2*x**2 + dz**2*y**2"
      ]
     },
     "execution_count": 21,
     "metadata": {},
     "output_type": "execute_result"
    }
   ],
   "source": [
    "x, y, z = symbols('x y z')\n",
    "dx, dy, dz = symbols('dx dy dz')\n",
    "\n",
    "X = [x, y, z]\n",
    "dX = [dx, dy, dz]\n",
    "\n",
    "Rx = np.cross(X, dX)\n",
    "sp.expand(np.dot(Rx, Rx))"
   ]
  },
  {
   "cell_type": "code",
   "execution_count": 14,
   "metadata": {},
   "outputs": [
    {
     "data": {
      "text/plain": [
       "[-dy*z + dz*y, -dx*z + dz*x, -dx*y + dy*x]"
      ]
     },
     "execution_count": 14,
     "metadata": {},
     "output_type": "execute_result"
    }
   ],
   "source": [
    "\n",
    "Rx = [y*dz - z*dy,\n",
    "      x*dz - z*dx,\n",
    "      x*dy - y*dx]\n",
    "\n",
    "sp.simplify(sp.expand(np.dot(Rx, Rx)))"
   ]
  },
  {
   "cell_type": "code",
   "execution_count": null,
   "metadata": {},
   "outputs": [
    {
     "data": {
      "text/plain": [
       "array([10.        , 10.3       , 10.58      , 10.83666667, 11.10333333,\n",
       "       11.37333333, 11.68333333, 11.99      , 12.22      , 12.49333333,\n",
       "       12.73      , 13.00666667])"
      ]
     },
     "metadata": {},
     "output_type": "display_data"
    }
   ],
   "source": []
  }
 ],
 "metadata": {
  "kernelspec": {
   "display_name": "base",
   "language": "python",
   "name": "python3"
  },
  "language_info": {
   "codemirror_mode": {
    "name": "ipython",
    "version": 3
   },
   "file_extension": ".py",
   "mimetype": "text/x-python",
   "name": "python",
   "nbconvert_exporter": "python",
   "pygments_lexer": "ipython3",
   "version": "3.11.5"
  }
 },
 "nbformat": 4,
 "nbformat_minor": 2
}
